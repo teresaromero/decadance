{
 "cells": [
  {
   "cell_type": "markdown",
   "id": "770e5fc2",
   "metadata": {},
   "source": [
    "# Select the classification model"
   ]
  },
  {
   "cell_type": "code",
   "execution_count": 101,
   "id": "f59e1d43",
   "metadata": {},
   "outputs": [],
   "source": [
    "import pandas as pd"
   ]
  },
  {
   "cell_type": "code",
   "execution_count": 102,
   "id": "0e89931a",
   "metadata": {},
   "outputs": [
    {
     "data": {
      "text/plain": [
       "(209999, 129)"
      ]
     },
     "execution_count": 102,
     "metadata": {},
     "output_type": "execute_result"
    }
   ],
   "source": [
    "df = pd.read_csv(\".csv/03_datapoints.csv\")\n",
    "df.shape"
   ]
  },
  {
   "cell_type": "code",
   "execution_count": 103,
   "id": "1d66e71a",
   "metadata": {},
   "outputs": [],
   "source": [
    "from sklearn.model_selection import train_test_split\n",
    "from sklearn.linear_model import SGDClassifier\n",
    "from sklearn.svm import SVC\n",
    "from sklearn.ensemble import RandomForestClassifier\n",
    "from sklearn.neighbors import KNeighborsClassifier\n",
    "from sklearn.metrics import confusion_matrix, accuracy_score, precision_score, recall_score, f1_score\n",
    "import matplotlib.pyplot as plt\n",
    "import seaborn as sns\n"
   ]
  },
  {
   "cell_type": "code",
   "execution_count": 104,
   "id": "e2d362b9",
   "metadata": {},
   "outputs": [
    {
     "data": {
      "text/html": [
       "<div>\n",
       "<style scoped>\n",
       "    .dataframe tbody tr th:only-of-type {\n",
       "        vertical-align: middle;\n",
       "    }\n",
       "\n",
       "    .dataframe tbody tr th {\n",
       "        vertical-align: top;\n",
       "    }\n",
       "\n",
       "    .dataframe thead th {\n",
       "        text-align: right;\n",
       "    }\n",
       "</style>\n",
       "<table border=\"1\" class=\"dataframe\">\n",
       "  <thead>\n",
       "    <tr style=\"text-align: right;\">\n",
       "      <th></th>\n",
       "      <th>dp_0</th>\n",
       "      <th>dp_1</th>\n",
       "      <th>dp_2</th>\n",
       "      <th>dp_3</th>\n",
       "      <th>dp_4</th>\n",
       "      <th>dp_5</th>\n",
       "      <th>dp_6</th>\n",
       "      <th>dp_7</th>\n",
       "      <th>dp_8</th>\n",
       "      <th>dp_9</th>\n",
       "      <th>...</th>\n",
       "      <th>dp_118</th>\n",
       "      <th>dp_119</th>\n",
       "      <th>dp_120</th>\n",
       "      <th>dp_121</th>\n",
       "      <th>dp_122</th>\n",
       "      <th>dp_123</th>\n",
       "      <th>dp_124</th>\n",
       "      <th>dp_125</th>\n",
       "      <th>dp_126</th>\n",
       "      <th>dp_127</th>\n",
       "    </tr>\n",
       "  </thead>\n",
       "  <tbody>\n",
       "    <tr>\n",
       "      <th>0</th>\n",
       "      <td>-0.851101</td>\n",
       "      <td>-0.133359</td>\n",
       "      <td>0.411688</td>\n",
       "      <td>-0.506884</td>\n",
       "      <td>-0.624750</td>\n",
       "      <td>-1.183555</td>\n",
       "      <td>-0.007701</td>\n",
       "      <td>-0.193852</td>\n",
       "      <td>-2.310815</td>\n",
       "      <td>-0.681502</td>\n",
       "      <td>...</td>\n",
       "      <td>-0.398452</td>\n",
       "      <td>-0.171966</td>\n",
       "      <td>-0.198043</td>\n",
       "      <td>-0.392601</td>\n",
       "      <td>-0.921793</td>\n",
       "      <td>-0.181319</td>\n",
       "      <td>0.049851</td>\n",
       "      <td>-0.743607</td>\n",
       "      <td>0.221477</td>\n",
       "      <td>0.061140</td>\n",
       "    </tr>\n",
       "    <tr>\n",
       "      <th>1</th>\n",
       "      <td>-0.942043</td>\n",
       "      <td>-0.028752</td>\n",
       "      <td>0.842339</td>\n",
       "      <td>-0.917130</td>\n",
       "      <td>-1.013945</td>\n",
       "      <td>-1.175337</td>\n",
       "      <td>-0.031011</td>\n",
       "      <td>-0.134986</td>\n",
       "      <td>-2.647296</td>\n",
       "      <td>-0.773516</td>\n",
       "      <td>...</td>\n",
       "      <td>-0.482067</td>\n",
       "      <td>-0.491768</td>\n",
       "      <td>-0.181433</td>\n",
       "      <td>-0.631909</td>\n",
       "      <td>-1.186748</td>\n",
       "      <td>-0.269359</td>\n",
       "      <td>-0.129906</td>\n",
       "      <td>-0.844575</td>\n",
       "      <td>0.131751</td>\n",
       "      <td>-0.067637</td>\n",
       "    </tr>\n",
       "    <tr>\n",
       "      <th>2</th>\n",
       "      <td>-0.965285</td>\n",
       "      <td>-0.201948</td>\n",
       "      <td>0.425197</td>\n",
       "      <td>-0.839285</td>\n",
       "      <td>-0.732815</td>\n",
       "      <td>-1.359382</td>\n",
       "      <td>0.186973</td>\n",
       "      <td>-0.214920</td>\n",
       "      <td>-2.731281</td>\n",
       "      <td>-0.738370</td>\n",
       "      <td>...</td>\n",
       "      <td>-0.454871</td>\n",
       "      <td>-0.064863</td>\n",
       "      <td>-0.139382</td>\n",
       "      <td>-0.451683</td>\n",
       "      <td>-1.054647</td>\n",
       "      <td>-0.422945</td>\n",
       "      <td>-0.046870</td>\n",
       "      <td>-0.828963</td>\n",
       "      <td>0.277579</td>\n",
       "      <td>-0.099526</td>\n",
       "    </tr>\n",
       "    <tr>\n",
       "      <th>3</th>\n",
       "      <td>-1.257392</td>\n",
       "      <td>-0.270322</td>\n",
       "      <td>0.366864</td>\n",
       "      <td>-0.904969</td>\n",
       "      <td>-0.922917</td>\n",
       "      <td>-1.498431</td>\n",
       "      <td>0.406486</td>\n",
       "      <td>-0.042352</td>\n",
       "      <td>-2.874939</td>\n",
       "      <td>-0.704583</td>\n",
       "      <td>...</td>\n",
       "      <td>-0.600211</td>\n",
       "      <td>-0.132417</td>\n",
       "      <td>-0.038785</td>\n",
       "      <td>-0.382238</td>\n",
       "      <td>-1.255367</td>\n",
       "      <td>-0.557412</td>\n",
       "      <td>-0.068375</td>\n",
       "      <td>-0.844525</td>\n",
       "      <td>0.311174</td>\n",
       "      <td>0.154526</td>\n",
       "    </tr>\n",
       "    <tr>\n",
       "      <th>4</th>\n",
       "      <td>-1.411341</td>\n",
       "      <td>-0.296022</td>\n",
       "      <td>0.336932</td>\n",
       "      <td>-0.924695</td>\n",
       "      <td>-0.962841</td>\n",
       "      <td>-1.601036</td>\n",
       "      <td>0.384875</td>\n",
       "      <td>-0.075125</td>\n",
       "      <td>-2.976923</td>\n",
       "      <td>-0.785720</td>\n",
       "      <td>...</td>\n",
       "      <td>-0.664096</td>\n",
       "      <td>-0.108609</td>\n",
       "      <td>-0.054045</td>\n",
       "      <td>-0.364247</td>\n",
       "      <td>-1.421688</td>\n",
       "      <td>-0.612453</td>\n",
       "      <td>-0.093070</td>\n",
       "      <td>-0.908785</td>\n",
       "      <td>0.356414</td>\n",
       "      <td>0.239415</td>\n",
       "    </tr>\n",
       "  </tbody>\n",
       "</table>\n",
       "<p>5 rows × 128 columns</p>\n",
       "</div>"
      ],
      "text/plain": [
       "       dp_0      dp_1      dp_2      dp_3      dp_4      dp_5      dp_6  \\\n",
       "0 -0.851101 -0.133359  0.411688 -0.506884 -0.624750 -1.183555 -0.007701   \n",
       "1 -0.942043 -0.028752  0.842339 -0.917130 -1.013945 -1.175337 -0.031011   \n",
       "2 -0.965285 -0.201948  0.425197 -0.839285 -0.732815 -1.359382  0.186973   \n",
       "3 -1.257392 -0.270322  0.366864 -0.904969 -0.922917 -1.498431  0.406486   \n",
       "4 -1.411341 -0.296022  0.336932 -0.924695 -0.962841 -1.601036  0.384875   \n",
       "\n",
       "       dp_7      dp_8      dp_9  ...    dp_118    dp_119    dp_120    dp_121  \\\n",
       "0 -0.193852 -2.310815 -0.681502  ... -0.398452 -0.171966 -0.198043 -0.392601   \n",
       "1 -0.134986 -2.647296 -0.773516  ... -0.482067 -0.491768 -0.181433 -0.631909   \n",
       "2 -0.214920 -2.731281 -0.738370  ... -0.454871 -0.064863 -0.139382 -0.451683   \n",
       "3 -0.042352 -2.874939 -0.704583  ... -0.600211 -0.132417 -0.038785 -0.382238   \n",
       "4 -0.075125 -2.976923 -0.785720  ... -0.664096 -0.108609 -0.054045 -0.364247   \n",
       "\n",
       "     dp_122    dp_123    dp_124    dp_125    dp_126    dp_127  \n",
       "0 -0.921793 -0.181319  0.049851 -0.743607  0.221477  0.061140  \n",
       "1 -1.186748 -0.269359 -0.129906 -0.844575  0.131751 -0.067637  \n",
       "2 -1.054647 -0.422945 -0.046870 -0.828963  0.277579 -0.099526  \n",
       "3 -1.255367 -0.557412 -0.068375 -0.844525  0.311174  0.154526  \n",
       "4 -1.421688 -0.612453 -0.093070 -0.908785  0.356414  0.239415  \n",
       "\n",
       "[5 rows x 128 columns]"
      ]
     },
     "execution_count": 104,
     "metadata": {},
     "output_type": "execute_result"
    }
   ],
   "source": [
    "X = df.drop(\"label\", axis=1)\n",
    "X.head()"
   ]
  },
  {
   "cell_type": "code",
   "execution_count": 105,
   "id": "40fb831b",
   "metadata": {},
   "outputs": [
    {
     "data": {
      "text/plain": [
       "(209999,)"
      ]
     },
     "execution_count": 105,
     "metadata": {},
     "output_type": "execute_result"
    }
   ],
   "source": [
    "y = df[\"label\"]\n",
    "y.shape"
   ]
  },
  {
   "cell_type": "code",
   "execution_count": 106,
   "id": "5e54ac0c",
   "metadata": {},
   "outputs": [
    {
     "data": {
      "text/plain": [
       "((157499, 128), (52500, 128), (157499,), (52500,))"
      ]
     },
     "execution_count": 106,
     "metadata": {},
     "output_type": "execute_result"
    }
   ],
   "source": [
    "X_train, X_test, y_train, y_test = train_test_split(X,y,random_state=42)\n",
    "X_train.shape,X_test.shape,y_train.shape,y_test.shape,"
   ]
  },
  {
   "cell_type": "code",
   "execution_count": 111,
   "id": "f0a2957d",
   "metadata": {},
   "outputs": [],
   "source": [
    "def metrics(model, X=X_test, y=y_test, average=\"macro\"):\n",
    "    metrics = {}\n",
    "    functions = {'accuracy': accuracy_score, \n",
    "                 'precision': lambda *args: precision_score(*args,average=average, zero_division=1), \n",
    "                 'recall': lambda *args: recall_score(*args,average=average), \n",
    "                 'f_score': lambda *args: f1_score(*args,average=average)}\n",
    "    model.fit(X_train, y_train)\n",
    "    y_pred = model.predict(X)\n",
    "    for n,m in functions.items():\n",
    "        metrics[n] = m(y,y_pred)\n",
    "    return metrics"
   ]
  },
  {
   "cell_type": "code",
   "execution_count": 112,
   "id": "da1f2518",
   "metadata": {},
   "outputs": [
    {
     "data": {
      "text/plain": [
       "{'accuracy': 0.04180952380952381,\n",
       " 'precision': 0.4692605728244183,\n",
       " 'recall': 0.042262610515370676,\n",
       " 'f_score': 0.02138734537404831}"
      ]
     },
     "execution_count": 112,
     "metadata": {},
     "output_type": "execute_result"
    }
   ],
   "source": [
    "metrics(SGDClassifier(random_state=42))"
   ]
  },
  {
   "cell_type": "code",
   "execution_count": 113,
   "id": "fe1166ab",
   "metadata": {},
   "outputs": [
    {
     "data": {
      "text/plain": [
       "{'accuracy': 0.09215238095238096,\n",
       " 'precision': 0.08408570016058782,\n",
       " 'recall': 0.09178982868331663,\n",
       " 'f_score': 0.08595148393830342}"
      ]
     },
     "execution_count": 113,
     "metadata": {},
     "output_type": "execute_result"
    }
   ],
   "source": [
    "metrics(RandomForestClassifier(random_state=42))"
   ]
  },
  {
   "cell_type": "code",
   "execution_count": 115,
   "id": "2e02c899",
   "metadata": {},
   "outputs": [
    {
     "data": {
      "text/plain": [
       "{'accuracy': 0.06405714285714285,\n",
       " 'precision': 0.06282985688816108,\n",
       " 'recall': 0.06367038382678798,\n",
       " 'f_score': 0.056055398541393964}"
      ]
     },
     "execution_count": 115,
     "metadata": {},
     "output_type": "execute_result"
    }
   ],
   "source": [
    "metrics(KNeighborsClassifier())"
   ]
  },
  {
   "cell_type": "code",
   "execution_count": null,
   "id": "644a3e23",
   "metadata": {},
   "outputs": [],
   "source": []
  }
 ],
 "metadata": {
  "kernelspec": {
   "display_name": "Python 3",
   "language": "python",
   "name": "python3"
  },
  "language_info": {
   "codemirror_mode": {
    "name": "ipython",
    "version": 3
   },
   "file_extension": ".py",
   "mimetype": "text/x-python",
   "name": "python",
   "nbconvert_exporter": "python",
   "pygments_lexer": "ipython3",
   "version": "3.9.5"
  },
  "toc": {
   "base_numbering": 1,
   "nav_menu": {},
   "number_sections": true,
   "sideBar": true,
   "skip_h1_title": false,
   "title_cell": "Table of Contents",
   "title_sidebar": "Contents",
   "toc_cell": false,
   "toc_position": {},
   "toc_section_display": true,
   "toc_window_display": false
  },
  "varInspector": {
   "cols": {
    "lenName": 16,
    "lenType": 16,
    "lenVar": 40
   },
   "kernels_config": {
    "python": {
     "delete_cmd_postfix": "",
     "delete_cmd_prefix": "del ",
     "library": "var_list.py",
     "varRefreshCmd": "print(var_dic_list())"
    },
    "r": {
     "delete_cmd_postfix": ") ",
     "delete_cmd_prefix": "rm(",
     "library": "var_list.r",
     "varRefreshCmd": "cat(var_dic_list()) "
    }
   },
   "types_to_exclude": [
    "module",
    "function",
    "builtin_function_or_method",
    "instance",
    "_Feature"
   ],
   "window_display": false
  }
 },
 "nbformat": 4,
 "nbformat_minor": 5
}
