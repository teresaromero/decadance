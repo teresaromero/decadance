{
 "cells": [
  {
   "cell_type": "markdown",
   "id": "7b59e674",
   "metadata": {},
   "source": [
    "# Download the 30 seconds for each song"
   ]
  },
  {
   "cell_type": "code",
   "execution_count": 1,
   "id": "0a48e905",
   "metadata": {},
   "outputs": [],
   "source": [
    "import pandas as pd\n",
    "import requests\n",
    "import os\n",
    "from tqdm.notebook import tqdm, trange\n",
    "import time    # to be used in loop iterations"
   ]
  },
  {
   "cell_type": "code",
   "execution_count": 2,
   "id": "6ebcd744",
   "metadata": {
    "scrolled": true
   },
   "outputs": [
    {
     "data": {
      "text/html": [
       "<div>\n",
       "<style scoped>\n",
       "    .dataframe tbody tr th:only-of-type {\n",
       "        vertical-align: middle;\n",
       "    }\n",
       "\n",
       "    .dataframe tbody tr th {\n",
       "        vertical-align: top;\n",
       "    }\n",
       "\n",
       "    .dataframe thead th {\n",
       "        text-align: right;\n",
       "    }\n",
       "</style>\n",
       "<table border=\"1\" class=\"dataframe\">\n",
       "  <thead>\n",
       "    <tr style=\"text-align: right;\">\n",
       "      <th></th>\n",
       "      <th>id</th>\n",
       "      <th>uri</th>\n",
       "      <th>name</th>\n",
       "      <th>artists</th>\n",
       "      <th>album.name</th>\n",
       "      <th>album.release_date</th>\n",
       "      <th>album.release_date_precision</th>\n",
       "      <th>preview_url</th>\n",
       "      <th>release_year</th>\n",
       "    </tr>\n",
       "  </thead>\n",
       "  <tbody>\n",
       "    <tr>\n",
       "      <th>0</th>\n",
       "      <td>0qB213IfGN0JXXm9aRjldF</td>\n",
       "      <td>spotify:track:0qB213IfGN0JXXm9aRjldF</td>\n",
       "      <td>Again (with The Mellomen)</td>\n",
       "      <td>['Doris Day', 'The Mellomen']</td>\n",
       "      <td>Golden Girl (The Columbia Recordings 1944-1966)</td>\n",
       "      <td>1945</td>\n",
       "      <td>year</td>\n",
       "      <td>https://p.scdn.co/mp3-preview/d9665450993b7b72...</td>\n",
       "      <td>1945</td>\n",
       "    </tr>\n",
       "    <tr>\n",
       "      <th>1</th>\n",
       "      <td>20G1XJaTwIm2IuwA3Pjg1d</td>\n",
       "      <td>spotify:track:20G1XJaTwIm2IuwA3Pjg1d</td>\n",
       "      <td>If I Give My Heart to You (with The Mellomen)</td>\n",
       "      <td>['Doris Day', 'The Mellomen']</td>\n",
       "      <td>Golden Girl (The Columbia Recordings 1944-1966)</td>\n",
       "      <td>1945</td>\n",
       "      <td>year</td>\n",
       "      <td>https://p.scdn.co/mp3-preview/a26b112bfd5e41e8...</td>\n",
       "      <td>1945</td>\n",
       "    </tr>\n",
       "    <tr>\n",
       "      <th>2</th>\n",
       "      <td>3YU16osxnEi1e0SvXIt0QW</td>\n",
       "      <td>spotify:track:3YU16osxnEi1e0SvXIt0QW</td>\n",
       "      <td>Sentimental Journey (with Les Brown &amp; His Orch...</td>\n",
       "      <td>['Doris Day', 'Les Brown &amp; His Orchestra']</td>\n",
       "      <td>Golden Girl (The Columbia Recordings 1944-1966)</td>\n",
       "      <td>1945</td>\n",
       "      <td>year</td>\n",
       "      <td>https://p.scdn.co/mp3-preview/168bbc003c6f70d3...</td>\n",
       "      <td>1945</td>\n",
       "    </tr>\n",
       "    <tr>\n",
       "      <th>3</th>\n",
       "      <td>0qPeyVfebszZcHTUc48Lzl</td>\n",
       "      <td>spotify:track:0qPeyVfebszZcHTUc48Lzl</td>\n",
       "      <td>Lullaby of Broadway (with Harry James &amp; His Or...</td>\n",
       "      <td>['Doris Day', 'Harry James']</td>\n",
       "      <td>Golden Girl (The Columbia Recordings 1944-1966)</td>\n",
       "      <td>1945</td>\n",
       "      <td>year</td>\n",
       "      <td>https://p.scdn.co/mp3-preview/6fd995ccf2647320...</td>\n",
       "      <td>1945</td>\n",
       "    </tr>\n",
       "    <tr>\n",
       "      <th>4</th>\n",
       "      <td>3cjOGPcrFpBseML7Xll49c</td>\n",
       "      <td>spotify:track:3cjOGPcrFpBseML7Xll49c</td>\n",
       "      <td>Move Over Darling</td>\n",
       "      <td>['Doris Day']</td>\n",
       "      <td>Golden Girl (The Columbia Recordings 1944-1966)</td>\n",
       "      <td>1945</td>\n",
       "      <td>year</td>\n",
       "      <td>https://p.scdn.co/mp3-preview/a0a426ac5969c76d...</td>\n",
       "      <td>1945</td>\n",
       "    </tr>\n",
       "  </tbody>\n",
       "</table>\n",
       "</div>"
      ],
      "text/plain": [
       "                       id                                   uri  \\\n",
       "0  0qB213IfGN0JXXm9aRjldF  spotify:track:0qB213IfGN0JXXm9aRjldF   \n",
       "1  20G1XJaTwIm2IuwA3Pjg1d  spotify:track:20G1XJaTwIm2IuwA3Pjg1d   \n",
       "2  3YU16osxnEi1e0SvXIt0QW  spotify:track:3YU16osxnEi1e0SvXIt0QW   \n",
       "3  0qPeyVfebszZcHTUc48Lzl  spotify:track:0qPeyVfebszZcHTUc48Lzl   \n",
       "4  3cjOGPcrFpBseML7Xll49c  spotify:track:3cjOGPcrFpBseML7Xll49c   \n",
       "\n",
       "                                                name  \\\n",
       "0                          Again (with The Mellomen)   \n",
       "1      If I Give My Heart to You (with The Mellomen)   \n",
       "2  Sentimental Journey (with Les Brown & His Orch...   \n",
       "3  Lullaby of Broadway (with Harry James & His Or...   \n",
       "4                                  Move Over Darling   \n",
       "\n",
       "                                      artists  \\\n",
       "0               ['Doris Day', 'The Mellomen']   \n",
       "1               ['Doris Day', 'The Mellomen']   \n",
       "2  ['Doris Day', 'Les Brown & His Orchestra']   \n",
       "3                ['Doris Day', 'Harry James']   \n",
       "4                               ['Doris Day']   \n",
       "\n",
       "                                        album.name album.release_date  \\\n",
       "0  Golden Girl (The Columbia Recordings 1944-1966)               1945   \n",
       "1  Golden Girl (The Columbia Recordings 1944-1966)               1945   \n",
       "2  Golden Girl (The Columbia Recordings 1944-1966)               1945   \n",
       "3  Golden Girl (The Columbia Recordings 1944-1966)               1945   \n",
       "4  Golden Girl (The Columbia Recordings 1944-1966)               1945   \n",
       "\n",
       "  album.release_date_precision  \\\n",
       "0                         year   \n",
       "1                         year   \n",
       "2                         year   \n",
       "3                         year   \n",
       "4                         year   \n",
       "\n",
       "                                         preview_url  release_year  \n",
       "0  https://p.scdn.co/mp3-preview/d9665450993b7b72...          1945  \n",
       "1  https://p.scdn.co/mp3-preview/a26b112bfd5e41e8...          1945  \n",
       "2  https://p.scdn.co/mp3-preview/168bbc003c6f70d3...          1945  \n",
       "3  https://p.scdn.co/mp3-preview/6fd995ccf2647320...          1945  \n",
       "4  https://p.scdn.co/mp3-preview/a0a426ac5969c76d...          1945  "
      ]
     },
     "execution_count": 2,
     "metadata": {},
     "output_type": "execute_result"
    }
   ],
   "source": [
    "df = pd.read_csv(\".csv/01_final_spotify_data.csv\")\n",
    "df.head()"
   ]
  },
  {
   "cell_type": "code",
   "execution_count": 3,
   "id": "684cae61",
   "metadata": {},
   "outputs": [
    {
     "data": {
      "text/plain": [
       "7000"
      ]
     },
     "execution_count": 3,
     "metadata": {},
     "output_type": "execute_result"
    }
   ],
   "source": [
    "df_previews = df[[\"id\", \"release_year\", \"preview_url\"]]\n",
    "rows, columns = df_previews.shape\n",
    "rows"
   ]
  },
  {
   "cell_type": "markdown",
   "id": "43b74846",
   "metadata": {},
   "source": [
    "The following script will download to the .mp3 folder the previews for each years"
   ]
  },
  {
   "cell_type": "code",
   "execution_count": 4,
   "id": "bc2a9b14",
   "metadata": {},
   "outputs": [
    {
     "data": {
      "application/vnd.jupyter.widget-view+json": {
       "model_id": "55f77eced49c46deb4a6fe1ef48300d8",
       "version_major": 2,
       "version_minor": 0
      },
      "text/plain": [
       "  0%|          | 0/7000 [00:00<?, ?it/s]"
      ]
     },
     "metadata": {},
     "output_type": "display_data"
    }
   ],
   "source": [
    "for r in trange(rows):\n",
    "    filename = df_previews.loc[r,'id']\n",
    "    year = df_previews.loc[r,'release_year']\n",
    "    url = df_previews.loc[r,'preview_url']\n",
    "    \n",
    "    folder = f\".mp3/{year}\"\n",
    "    os.makedirs(name=folder, exist_ok=True)\n",
    "\n",
    "    res = requests.get(url=url, stream=True)\n",
    "    if res.status_code != 200:\n",
    "        print(\"Error\", res.status_code)\n",
    "        continue\n",
    "\n",
    "    with open(os.path.join(folder, f\"{filename}.mp3\"), 'wb') as f:\n",
    "        for ch in res:\n",
    "            f.write(ch)"
   ]
  }
 ],
 "metadata": {
  "kernelspec": {
   "display_name": "Python 3",
   "language": "python",
   "name": "python3"
  },
  "language_info": {
   "codemirror_mode": {
    "name": "ipython",
    "version": 3
   },
   "file_extension": ".py",
   "mimetype": "text/x-python",
   "name": "python",
   "nbconvert_exporter": "python",
   "pygments_lexer": "ipython3",
   "version": "3.9.5"
  },
  "toc": {
   "base_numbering": 1,
   "nav_menu": {},
   "number_sections": true,
   "sideBar": true,
   "skip_h1_title": false,
   "title_cell": "Table of Contents",
   "title_sidebar": "Contents",
   "toc_cell": false,
   "toc_position": {},
   "toc_section_display": true,
   "toc_window_display": false
  },
  "varInspector": {
   "cols": {
    "lenName": 16,
    "lenType": 16,
    "lenVar": 40
   },
   "kernels_config": {
    "python": {
     "delete_cmd_postfix": "",
     "delete_cmd_prefix": "del ",
     "library": "var_list.py",
     "varRefreshCmd": "print(var_dic_list())"
    },
    "r": {
     "delete_cmd_postfix": ") ",
     "delete_cmd_prefix": "rm(",
     "library": "var_list.r",
     "varRefreshCmd": "cat(var_dic_list()) "
    }
   },
   "types_to_exclude": [
    "module",
    "function",
    "builtin_function_or_method",
    "instance",
    "_Feature"
   ],
   "window_display": false
  }
 },
 "nbformat": 4,
 "nbformat_minor": 5
}
