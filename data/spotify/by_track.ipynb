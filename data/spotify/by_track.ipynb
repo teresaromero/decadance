{
 "cells": [
  {
   "cell_type": "code",
   "execution_count": null,
   "metadata": {},
   "outputs": [],
   "source": [
    "import pandas as pd\n",
    "import os\n",
    "from constants import CWD\n",
    "csv_path = os.path.join(CWD, \"csv/by_year\")\n"
   ]
  },
  {
   "cell_type": "code",
   "execution_count": null,
   "metadata": {},
   "outputs": [],
   "source": [
    "df = pd.read_csv(os.path.join(csv_path, \"dataset.csv\"))\n",
    "df.head()"
   ]
  },
  {
   "cell_type": "code",
   "execution_count": null,
   "metadata": {},
   "outputs": [],
   "source": [
    "df.drop_duplicates(\"id\", inplace=True)\n"
   ]
  },
  {
   "cell_type": "code",
   "execution_count": null,
   "metadata": {},
   "outputs": [],
   "source": [
    "df[\"preview_url\"].isna().value_counts()"
   ]
  },
  {
   "cell_type": "code",
   "execution_count": null,
   "metadata": {},
   "outputs": [],
   "source": [
    "df.dropna(subset=[\"preview_url\"], inplace=True)\n",
    "df[\"preview_url\"].isna().value_counts()\n"
   ]
  },
  {
   "cell_type": "code",
   "execution_count": null,
   "metadata": {},
   "outputs": [],
   "source": [
    "df.to_csv(os.path.join(csv_path,\"final_dataset.csv\"))"
   ]
  },
  {
   "cell_type": "code",
   "execution_count": null,
   "metadata": {},
   "outputs": [],
   "source": [
    "df[\"release_year\"] = df[\"album.release_date\"].apply(lambda x: x[:4])\n",
    "df[\"decade\"] = df[\"release_year\"].apply(lambda x: x[:3]+\"0\")\n",
    "df.groupby([\"decade\"]).size()\n"
   ]
  },
  {
   "cell_type": "code",
   "execution_count": null,
   "metadata": {},
   "outputs": [],
   "source": [
    "urls = df[[\"id\", \"decade\",\"preview_url\"]]\n",
    "urls = [tuple(r) for r in urls.to_numpy()]\n",
    "urls\n"
   ]
  },
  {
   "cell_type": "code",
   "execution_count": null,
   "metadata": {},
   "outputs": [],
   "source": [
    "import os\n",
    "import requests\n",
    "from time import time"
   ]
  },
  {
   "cell_type": "code",
   "execution_count": null,
   "metadata": {},
   "outputs": [],
   "source": [
    "mp3_path = os.path.join(CWD, \"mp3\")\n",
    "os.makedirs(name=mp3_path,exist_ok=True)\n",
    "\n",
    "def url_response(data: tuple):\n",
    "\n",
    "    filename, folder, url = data\n",
    "    r = requests.get(url, stream=True)\n",
    "    path = os.path.join(mp3_path, f\"{folder}\")\n",
    "    os.makedirs(name=path,exist_ok=True)\n",
    "    with open(os.path.join(path, f\"{filename}.mp3\"), 'wb') as f:\n",
    "        for ch in r:\n",
    "            f.write(ch)\n",
    "\n",
    "start = time()\n",
    "for x in urls:\n",
    "    url_response(x)\n",
    "\n",
    "print(f\"Time to download: {time() - start}\")\n"
   ]
  }
 ],
 "metadata": {
  "interpreter": {
   "hash": "55695f429db6402ad678ed7710d7bf51a72a6ff7bcabeb05a3e06046aa75bb8c"
  },
  "kernelspec": {
   "display_name": "Python 3.9.5 64-bit ('core': conda)",
   "name": "python3"
  },
  "language_info": {
   "codemirror_mode": {
    "name": "ipython",
    "version": 3
   },
   "file_extension": ".py",
   "mimetype": "text/x-python",
   "name": "python",
   "nbconvert_exporter": "python",
   "pygments_lexer": "ipython3",
   "version": "3.9.5"
  },
  "orig_nbformat": 4
 },
 "nbformat": 4,
 "nbformat_minor": 2
}
